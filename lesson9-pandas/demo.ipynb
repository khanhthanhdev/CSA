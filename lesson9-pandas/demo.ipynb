{
 "cells": [
  {
   "cell_type": "markdown",
   "metadata": {},
   "source": [
    "<header>Import  thu vien</header>\n"
   ]
  },
  {
   "cell_type": "code",
   "execution_count": 2,
   "metadata": {},
   "outputs": [],
   "source": [
    "import pandas as pd\n"
   ]
  },
  {
   "cell_type": "markdown",
   "metadata": {},
   "source": [
    "<header>Tao Series</header>\n"
   ]
  },
  {
   "cell_type": "code",
   "execution_count": 3,
   "metadata": {},
   "outputs": [
    {
     "data": {
      "text/plain": [
       "x    1\n",
       "y    7\n",
       "z    4\n",
       "dtype: int64"
      ]
     },
     "execution_count": 3,
     "metadata": {},
     "output_type": "execute_result"
    }
   ],
   "source": [
    "value = [1, 7, 4]\n",
    "\n",
    "pd.Series(value)\n",
    "pd.Series(value, index=['x', 'y', 'z'])\n"
   ]
  },
  {
   "cell_type": "code",
   "execution_count": 4,
   "metadata": {},
   "outputs": [
    {
     "data": {
      "text/plain": [
       "Mon     2\n",
       "Tues    3\n",
       "Weds    4\n",
       "dtype: int64"
      ]
     },
     "execution_count": 4,
     "metadata": {},
     "output_type": "execute_result"
    }
   ],
   "source": [
    "day = [2, 3, 4]\n",
    "pd.Series(day, index=['Mon', 'Tues', 'Weds'])\n"
   ]
  },
  {
   "cell_type": "code",
   "execution_count": 5,
   "metadata": {},
   "outputs": [],
   "source": [
    "data = {'colories': [420, 380, 290], 'duration': [50, 40, 45]}\n",
    "df = pd.DataFrame(data)\n"
   ]
  },
  {
   "cell_type": "markdown",
   "metadata": {},
   "source": [
    "#### In ra n dong dau tien\n"
   ]
  },
  {
   "cell_type": "code",
   "execution_count": 6,
   "metadata": {},
   "outputs": [
    {
     "data": {
      "text/html": [
       "<div>\n",
       "<style scoped>\n",
       "    .dataframe tbody tr th:only-of-type {\n",
       "        vertical-align: middle;\n",
       "    }\n",
       "\n",
       "    .dataframe tbody tr th {\n",
       "        vertical-align: top;\n",
       "    }\n",
       "\n",
       "    .dataframe thead th {\n",
       "        text-align: right;\n",
       "    }\n",
       "</style>\n",
       "<table border=\"1\" class=\"dataframe\">\n",
       "  <thead>\n",
       "    <tr style=\"text-align: right;\">\n",
       "      <th></th>\n",
       "      <th>colories</th>\n",
       "      <th>duration</th>\n",
       "    </tr>\n",
       "  </thead>\n",
       "  <tbody>\n",
       "    <tr>\n",
       "      <th>0</th>\n",
       "      <td>420</td>\n",
       "      <td>50</td>\n",
       "    </tr>\n",
       "    <tr>\n",
       "      <th>1</th>\n",
       "      <td>380</td>\n",
       "      <td>40</td>\n",
       "    </tr>\n",
       "  </tbody>\n",
       "</table>\n",
       "</div>"
      ],
      "text/plain": [
       "   colories  duration\n",
       "0       420        50\n",
       "1       380        40"
      ]
     },
     "execution_count": 6,
     "metadata": {},
     "output_type": "execute_result"
    }
   ],
   "source": [
    "df.head(2)\n"
   ]
  },
  {
   "cell_type": "markdown",
   "metadata": {},
   "source": [
    "#### In ra n dong cuoi\n"
   ]
  },
  {
   "cell_type": "code",
   "execution_count": 7,
   "metadata": {},
   "outputs": [
    {
     "data": {
      "text/html": [
       "<div>\n",
       "<style scoped>\n",
       "    .dataframe tbody tr th:only-of-type {\n",
       "        vertical-align: middle;\n",
       "    }\n",
       "\n",
       "    .dataframe tbody tr th {\n",
       "        vertical-align: top;\n",
       "    }\n",
       "\n",
       "    .dataframe thead th {\n",
       "        text-align: right;\n",
       "    }\n",
       "</style>\n",
       "<table border=\"1\" class=\"dataframe\">\n",
       "  <thead>\n",
       "    <tr style=\"text-align: right;\">\n",
       "      <th></th>\n",
       "      <th>colories</th>\n",
       "      <th>duration</th>\n",
       "    </tr>\n",
       "  </thead>\n",
       "  <tbody>\n",
       "    <tr>\n",
       "      <th>2</th>\n",
       "      <td>290</td>\n",
       "      <td>45</td>\n",
       "    </tr>\n",
       "  </tbody>\n",
       "</table>\n",
       "</div>"
      ],
      "text/plain": [
       "   colories  duration\n",
       "2       290        45"
      ]
     },
     "execution_count": 7,
     "metadata": {},
     "output_type": "execute_result"
    }
   ],
   "source": [
    "df.tail(1)\n"
   ]
  },
  {
   "cell_type": "markdown",
   "metadata": {},
   "source": [
    "#### In ra thong tin cua df\n"
   ]
  },
  {
   "cell_type": "code",
   "execution_count": 8,
   "metadata": {},
   "outputs": [
    {
     "name": "stdout",
     "output_type": "stream",
     "text": [
      "<class 'pandas.core.frame.DataFrame'>\n",
      "RangeIndex: 3 entries, 0 to 2\n",
      "Data columns (total 2 columns):\n",
      " #   Column    Non-Null Count  Dtype\n",
      "---  ------    --------------  -----\n",
      " 0   colories  3 non-null      int64\n",
      " 1   duration  3 non-null      int64\n",
      "dtypes: int64(2)\n",
      "memory usage: 176.0 bytes\n"
     ]
    }
   ],
   "source": [
    "df.info()\n"
   ]
  },
  {
   "cell_type": "markdown",
   "metadata": {},
   "source": [
    "#### In ra kieu du lieu cua tung (Series) trong Dataframe\n"
   ]
  },
  {
   "cell_type": "code",
   "execution_count": 9,
   "metadata": {},
   "outputs": [
    {
     "data": {
      "text/plain": [
       "colories    int64\n",
       "duration    int64\n",
       "dtype: object"
      ]
     },
     "execution_count": 9,
     "metadata": {},
     "output_type": "execute_result"
    }
   ],
   "source": [
    "df.dtypes\n"
   ]
  },
  {
   "cell_type": "markdown",
   "metadata": {},
   "source": [
    "#### Xuat ra file csv\n"
   ]
  },
  {
   "cell_type": "code",
   "execution_count": 10,
   "metadata": {},
   "outputs": [],
   "source": [
    "df.to_csv(\"demo.csv\", index=False)\n"
   ]
  },
  {
   "cell_type": "markdown",
   "metadata": {},
   "source": [
    "#### IMPORT FILE\n"
   ]
  },
  {
   "cell_type": "code",
   "execution_count": 11,
   "metadata": {},
   "outputs": [
    {
     "data": {
      "text/html": [
       "<div>\n",
       "<style scoped>\n",
       "    .dataframe tbody tr th:only-of-type {\n",
       "        vertical-align: middle;\n",
       "    }\n",
       "\n",
       "    .dataframe tbody tr th {\n",
       "        vertical-align: top;\n",
       "    }\n",
       "\n",
       "    .dataframe thead th {\n",
       "        text-align: right;\n",
       "    }\n",
       "</style>\n",
       "<table border=\"1\" class=\"dataframe\">\n",
       "  <thead>\n",
       "    <tr style=\"text-align: right;\">\n",
       "      <th></th>\n",
       "      <th>colories</th>\n",
       "      <th>duration</th>\n",
       "    </tr>\n",
       "  </thead>\n",
       "  <tbody>\n",
       "    <tr>\n",
       "      <th>0</th>\n",
       "      <td>420</td>\n",
       "      <td>50</td>\n",
       "    </tr>\n",
       "    <tr>\n",
       "      <th>1</th>\n",
       "      <td>380</td>\n",
       "      <td>40</td>\n",
       "    </tr>\n",
       "    <tr>\n",
       "      <th>2</th>\n",
       "      <td>290</td>\n",
       "      <td>45</td>\n",
       "    </tr>\n",
       "  </tbody>\n",
       "</table>\n",
       "</div>"
      ],
      "text/plain": [
       "   colories  duration\n",
       "0       420        50\n",
       "1       380        40\n",
       "2       290        45"
      ]
     },
     "execution_count": 11,
     "metadata": {},
     "output_type": "execute_result"
    }
   ],
   "source": [
    "csv_df = pd.read_csv(\"demo.csv\")\n",
    "csv_df\n"
   ]
  },
  {
   "cell_type": "markdown",
   "metadata": {},
   "source": [
    "#### LUU file tsv\n"
   ]
  },
  {
   "cell_type": "code",
   "execution_count": 12,
   "metadata": {},
   "outputs": [],
   "source": [
    "csv_df.to_csv(\"demo.tsv\", sep='\\t', index=0)\n"
   ]
  },
  {
   "cell_type": "code",
   "execution_count": 13,
   "metadata": {},
   "outputs": [
    {
     "data": {
      "text/html": [
       "<div>\n",
       "<style scoped>\n",
       "    .dataframe tbody tr th:only-of-type {\n",
       "        vertical-align: middle;\n",
       "    }\n",
       "\n",
       "    .dataframe tbody tr th {\n",
       "        vertical-align: top;\n",
       "    }\n",
       "\n",
       "    .dataframe thead th {\n",
       "        text-align: right;\n",
       "    }\n",
       "</style>\n",
       "<table border=\"1\" class=\"dataframe\">\n",
       "  <thead>\n",
       "    <tr style=\"text-align: right;\">\n",
       "      <th></th>\n",
       "      <th>colories</th>\n",
       "      <th>duration</th>\n",
       "    </tr>\n",
       "  </thead>\n",
       "  <tbody>\n",
       "    <tr>\n",
       "      <th>0</th>\n",
       "      <td>420</td>\n",
       "      <td>50</td>\n",
       "    </tr>\n",
       "    <tr>\n",
       "      <th>1</th>\n",
       "      <td>380</td>\n",
       "      <td>40</td>\n",
       "    </tr>\n",
       "    <tr>\n",
       "      <th>2</th>\n",
       "      <td>290</td>\n",
       "      <td>45</td>\n",
       "    </tr>\n",
       "  </tbody>\n",
       "</table>\n",
       "</div>"
      ],
      "text/plain": [
       "   colories  duration\n",
       "0       420        50\n",
       "1       380        40\n",
       "2       290        45"
      ]
     },
     "execution_count": 13,
     "metadata": {},
     "output_type": "execute_result"
    }
   ],
   "source": [
    "tsv_df = pd.read_csv(\"demo.tsv\", sep='\\t')\n",
    "tsv_df\n"
   ]
  },
  {
   "cell_type": "markdown",
   "metadata": {},
   "source": [
    "#### Bai tap\n"
   ]
  },
  {
   "cell_type": "code",
   "execution_count": 14,
   "metadata": {},
   "outputs": [],
   "source": [
    "data = {'MAGV': ['001', '002', '003', '004', '005', '006', '007', '008', '009'], 'DIENTHOAI': [\n",
    "    '0838912112', '0903123123', '0913454545', '0838121212', '0903656565', '0937125125', '0937888888', '0653717171', '0913232323']}\n",
    "gv_df = pd.DataFrame(data)\n"
   ]
  },
  {
   "cell_type": "markdown",
   "metadata": {},
   "source": [
    "Yeu cau 2:\n"
   ]
  },
  {
   "cell_type": "code",
   "execution_count": 15,
   "metadata": {},
   "outputs": [
    {
     "data": {
      "text/html": [
       "<div>\n",
       "<style scoped>\n",
       "    .dataframe tbody tr th:only-of-type {\n",
       "        vertical-align: middle;\n",
       "    }\n",
       "\n",
       "    .dataframe tbody tr th {\n",
       "        vertical-align: top;\n",
       "    }\n",
       "\n",
       "    .dataframe thead th {\n",
       "        text-align: right;\n",
       "    }\n",
       "</style>\n",
       "<table border=\"1\" class=\"dataframe\">\n",
       "  <thead>\n",
       "    <tr style=\"text-align: right;\">\n",
       "      <th></th>\n",
       "      <th>MAGV</th>\n",
       "      <th>DIENTHOAI</th>\n",
       "    </tr>\n",
       "  </thead>\n",
       "  <tbody>\n",
       "    <tr>\n",
       "      <th>0</th>\n",
       "      <td>001</td>\n",
       "      <td>0838912112</td>\n",
       "    </tr>\n",
       "    <tr>\n",
       "      <th>1</th>\n",
       "      <td>002</td>\n",
       "      <td>0903123123</td>\n",
       "    </tr>\n",
       "    <tr>\n",
       "      <th>2</th>\n",
       "      <td>003</td>\n",
       "      <td>0913454545</td>\n",
       "    </tr>\n",
       "    <tr>\n",
       "      <th>3</th>\n",
       "      <td>004</td>\n",
       "      <td>0838121212</td>\n",
       "    </tr>\n",
       "    <tr>\n",
       "      <th>4</th>\n",
       "      <td>005</td>\n",
       "      <td>0903656565</td>\n",
       "    </tr>\n",
       "  </tbody>\n",
       "</table>\n",
       "</div>"
      ],
      "text/plain": [
       "  MAGV   DIENTHOAI\n",
       "0  001  0838912112\n",
       "1  002  0903123123\n",
       "2  003  0913454545\n",
       "3  004  0838121212\n",
       "4  005  0903656565"
      ]
     },
     "execution_count": 15,
     "metadata": {},
     "output_type": "execute_result"
    }
   ],
   "source": [
    "gv_df.head(5)\n"
   ]
  },
  {
   "cell_type": "markdown",
   "metadata": {},
   "source": [
    "Yeu cau 3:\n"
   ]
  },
  {
   "cell_type": "code",
   "execution_count": 16,
   "metadata": {},
   "outputs": [
    {
     "name": "stdout",
     "output_type": "stream",
     "text": [
      "<class 'pandas.core.frame.DataFrame'>\n",
      "RangeIndex: 9 entries, 0 to 8\n",
      "Data columns (total 2 columns):\n",
      " #   Column     Non-Null Count  Dtype \n",
      "---  ------     --------------  ----- \n",
      " 0   MAGV       9 non-null      object\n",
      " 1   DIENTHOAI  9 non-null      object\n",
      "dtypes: object(2)\n",
      "memory usage: 272.0+ bytes\n"
     ]
    }
   ],
   "source": [
    "gv_df.info()\n"
   ]
  },
  {
   "cell_type": "markdown",
   "metadata": {},
   "source": [
    "Yeu cau 4:\n"
   ]
  },
  {
   "cell_type": "code",
   "execution_count": 17,
   "metadata": {},
   "outputs": [
    {
     "data": {
      "text/plain": [
       "MAGV         object\n",
       "DIENTHOAI    object\n",
       "dtype: object"
      ]
     },
     "execution_count": 17,
     "metadata": {},
     "output_type": "execute_result"
    }
   ],
   "source": [
    "gv_df.dtypes\n"
   ]
  },
  {
   "cell_type": "markdown",
   "metadata": {},
   "source": [
    "Yeu cau 5:\n"
   ]
  },
  {
   "cell_type": "code",
   "execution_count": 18,
   "metadata": {},
   "outputs": [],
   "source": [
    "gv_df.to_csv(\"gv_csv.csv\", index=False)\n"
   ]
  },
  {
   "cell_type": "markdown",
   "metadata": {},
   "source": [
    "Yeu cau 6:\n"
   ]
  },
  {
   "cell_type": "code",
   "execution_count": 19,
   "metadata": {},
   "outputs": [
    {
     "data": {
      "text/html": [
       "<div>\n",
       "<style scoped>\n",
       "    .dataframe tbody tr th:only-of-type {\n",
       "        vertical-align: middle;\n",
       "    }\n",
       "\n",
       "    .dataframe tbody tr th {\n",
       "        vertical-align: top;\n",
       "    }\n",
       "\n",
       "    .dataframe thead th {\n",
       "        text-align: right;\n",
       "    }\n",
       "</style>\n",
       "<table border=\"1\" class=\"dataframe\">\n",
       "  <thead>\n",
       "    <tr style=\"text-align: right;\">\n",
       "      <th></th>\n",
       "      <th>MAGV</th>\n",
       "      <th>DIENTHOAI</th>\n",
       "    </tr>\n",
       "  </thead>\n",
       "  <tbody>\n",
       "    <tr>\n",
       "      <th>0</th>\n",
       "      <td>001</td>\n",
       "      <td>0838912112</td>\n",
       "    </tr>\n",
       "    <tr>\n",
       "      <th>1</th>\n",
       "      <td>002</td>\n",
       "      <td>0903123123</td>\n",
       "    </tr>\n",
       "    <tr>\n",
       "      <th>2</th>\n",
       "      <td>003</td>\n",
       "      <td>0913454545</td>\n",
       "    </tr>\n",
       "    <tr>\n",
       "      <th>3</th>\n",
       "      <td>004</td>\n",
       "      <td>0838121212</td>\n",
       "    </tr>\n",
       "    <tr>\n",
       "      <th>4</th>\n",
       "      <td>005</td>\n",
       "      <td>0903656565</td>\n",
       "    </tr>\n",
       "    <tr>\n",
       "      <th>5</th>\n",
       "      <td>006</td>\n",
       "      <td>0937125125</td>\n",
       "    </tr>\n",
       "    <tr>\n",
       "      <th>6</th>\n",
       "      <td>007</td>\n",
       "      <td>0937888888</td>\n",
       "    </tr>\n",
       "    <tr>\n",
       "      <th>7</th>\n",
       "      <td>008</td>\n",
       "      <td>0653717171</td>\n",
       "    </tr>\n",
       "    <tr>\n",
       "      <th>8</th>\n",
       "      <td>009</td>\n",
       "      <td>0913232323</td>\n",
       "    </tr>\n",
       "  </tbody>\n",
       "</table>\n",
       "</div>"
      ],
      "text/plain": [
       "  MAGV   DIENTHOAI\n",
       "0  001  0838912112\n",
       "1  002  0903123123\n",
       "2  003  0913454545\n",
       "3  004  0838121212\n",
       "4  005  0903656565\n",
       "5  006  0937125125\n",
       "6  007  0937888888\n",
       "7  008  0653717171\n",
       "8  009  0913232323"
      ]
     },
     "execution_count": 19,
     "metadata": {},
     "output_type": "execute_result"
    }
   ],
   "source": [
    "pd.read_csv(\"gv_csv.csv\", dtype=\"string\")\n"
   ]
  },
  {
   "cell_type": "code",
   "execution_count": 20,
   "metadata": {},
   "outputs": [
    {
     "data": {
      "text/html": [
       "<div>\n",
       "<style scoped>\n",
       "    .dataframe tbody tr th:only-of-type {\n",
       "        vertical-align: middle;\n",
       "    }\n",
       "\n",
       "    .dataframe tbody tr th {\n",
       "        vertical-align: top;\n",
       "    }\n",
       "\n",
       "    .dataframe thead th {\n",
       "        text-align: right;\n",
       "    }\n",
       "</style>\n",
       "<table border=\"1\" class=\"dataframe\">\n",
       "  <thead>\n",
       "    <tr style=\"text-align: right;\">\n",
       "      <th></th>\n",
       "      <th>MAGV</th>\n",
       "      <th>HOTEN</th>\n",
       "      <th>LUONG</th>\n",
       "      <th>PHAI</th>\n",
       "      <th>NGSINH</th>\n",
       "      <th>DIACHI</th>\n",
       "      <th>GVQLCN</th>\n",
       "      <th>MABM</th>\n",
       "    </tr>\n",
       "  </thead>\n",
       "  <tbody>\n",
       "    <tr>\n",
       "      <th>0</th>\n",
       "      <td>001</td>\n",
       "      <td>Nguyễn Hoài An</td>\n",
       "      <td>2000.0</td>\n",
       "      <td>Nam</td>\n",
       "      <td>1973-02-15</td>\n",
       "      <td>25/3 Lạc Long Quân, Q.10, TP HCM</td>\n",
       "      <td></td>\n",
       "      <td>MMT</td>\n",
       "    </tr>\n",
       "    <tr>\n",
       "      <th>1</th>\n",
       "      <td>002</td>\n",
       "      <td>Trần Trà Hương</td>\n",
       "      <td>2500.0</td>\n",
       "      <td>Nữ</td>\n",
       "      <td>1960-06-20</td>\n",
       "      <td>125 Trần Hưng Đạo, Q.1, TP HCM</td>\n",
       "      <td></td>\n",
       "      <td>HTTT</td>\n",
       "    </tr>\n",
       "    <tr>\n",
       "      <th>2</th>\n",
       "      <td>003</td>\n",
       "      <td>Nguyễn Ngọc Ánh</td>\n",
       "      <td>2200.0</td>\n",
       "      <td>Nữ</td>\n",
       "      <td>1975-05-11</td>\n",
       "      <td>12/21 Võ Văn Ngân Thủ Đức, TP HCM</td>\n",
       "      <td>002</td>\n",
       "      <td>HTTT</td>\n",
       "    </tr>\n",
       "    <tr>\n",
       "      <th>3</th>\n",
       "      <td>004</td>\n",
       "      <td>Trương Nam Sơn</td>\n",
       "      <td>2300.0</td>\n",
       "      <td>Nam</td>\n",
       "      <td>1959-06-20</td>\n",
       "      <td>215 Lý Thường Kiệt,TP Biên Hòa</td>\n",
       "      <td></td>\n",
       "      <td>VS</td>\n",
       "    </tr>\n",
       "    <tr>\n",
       "      <th>4</th>\n",
       "      <td>005</td>\n",
       "      <td>Lý Hoàng Hà</td>\n",
       "      <td>2500.0</td>\n",
       "      <td>Nam</td>\n",
       "      <td>1954-10-23</td>\n",
       "      <td>22/5 Nguyễn xí, Q.Bình Thạnh, TP HCM</td>\n",
       "      <td></td>\n",
       "      <td>VLĐT</td>\n",
       "    </tr>\n",
       "    <tr>\n",
       "      <th>5</th>\n",
       "      <td>006</td>\n",
       "      <td>Trần Bạch Tuyết</td>\n",
       "      <td>1500.0</td>\n",
       "      <td>Nữ</td>\n",
       "      <td>1980-05-20</td>\n",
       "      <td>127 Hùng Vuong, TP Mỹ Tho</td>\n",
       "      <td>004</td>\n",
       "      <td>VS</td>\n",
       "    </tr>\n",
       "    <tr>\n",
       "      <th>6</th>\n",
       "      <td>007</td>\n",
       "      <td>Nguyễn An Trung</td>\n",
       "      <td>2100.0</td>\n",
       "      <td>Nam</td>\n",
       "      <td>1976-06-05</td>\n",
       "      <td>234 3/2, TP Biên Hòa</td>\n",
       "      <td></td>\n",
       "      <td>HPT</td>\n",
       "    </tr>\n",
       "    <tr>\n",
       "      <th>7</th>\n",
       "      <td>008</td>\n",
       "      <td>Trần Trung Hiểu</td>\n",
       "      <td>1800.0</td>\n",
       "      <td>Nam</td>\n",
       "      <td>1977-08-06</td>\n",
       "      <td>22/11 Lý Thuờng Kiệt, TP Mỹ Tho</td>\n",
       "      <td>007</td>\n",
       "      <td>HPT</td>\n",
       "    </tr>\n",
       "    <tr>\n",
       "      <th>8</th>\n",
       "      <td>009</td>\n",
       "      <td>Trần Hoàng Nam</td>\n",
       "      <td>2000.0</td>\n",
       "      <td>Nam</td>\n",
       "      <td>1975-11-22</td>\n",
       "      <td>234 Trấn Não, An Phú, TP HCM</td>\n",
       "      <td>001</td>\n",
       "      <td>MMT</td>\n",
       "    </tr>\n",
       "    <tr>\n",
       "      <th>9</th>\n",
       "      <td>010</td>\n",
       "      <td>Phạm Nam Thanh</td>\n",
       "      <td>1500.0</td>\n",
       "      <td>Nam</td>\n",
       "      <td>1980-12-12</td>\n",
       "      <td>221 Hùng Vuơng, Q.5, TP HCM</td>\n",
       "      <td>007</td>\n",
       "      <td>HPT</td>\n",
       "    </tr>\n",
       "  </tbody>\n",
       "</table>\n",
       "</div>"
      ],
      "text/plain": [
       "  MAGV            HOTEN   LUONG PHAI      NGSINH  \\\n",
       "0  001   Nguyễn Hoài An  2000.0  Nam  1973-02-15   \n",
       "1  002   Trần Trà Hương  2500.0   Nữ  1960-06-20   \n",
       "2  003  Nguyễn Ngọc Ánh  2200.0   Nữ  1975-05-11   \n",
       "3  004   Trương Nam Sơn  2300.0  Nam  1959-06-20   \n",
       "4  005      Lý Hoàng Hà  2500.0  Nam  1954-10-23   \n",
       "5  006  Trần Bạch Tuyết  1500.0   Nữ  1980-05-20   \n",
       "6  007  Nguyễn An Trung  2100.0  Nam  1976-06-05   \n",
       "7  008  Trần Trung Hiểu  1800.0  Nam  1977-08-06   \n",
       "8  009   Trần Hoàng Nam  2000.0  Nam  1975-11-22   \n",
       "9  010   Phạm Nam Thanh  1500.0  Nam  1980-12-12   \n",
       "\n",
       "                                 DIACHI GVQLCN  MABM  \n",
       "0      25/3 Lạc Long Quân, Q.10, TP HCM          MMT  \n",
       "1        125 Trần Hưng Đạo, Q.1, TP HCM         HTTT  \n",
       "2     12/21 Võ Văn Ngân Thủ Đức, TP HCM    002  HTTT  \n",
       "3        215 Lý Thường Kiệt,TP Biên Hòa           VS  \n",
       "4  22/5 Nguyễn xí, Q.Bình Thạnh, TP HCM         VLĐT  \n",
       "5             127 Hùng Vuong, TP Mỹ Tho    004    VS  \n",
       "6                  234 3/2, TP Biên Hòa          HPT  \n",
       "7       22/11 Lý Thuờng Kiệt, TP Mỹ Tho    007   HPT  \n",
       "8          234 Trấn Não, An Phú, TP HCM    001   MMT  \n",
       "9           221 Hùng Vuơng, Q.5, TP HCM    007   HPT  "
      ]
     },
     "execution_count": 20,
     "metadata": {},
     "output_type": "execute_result"
    }
   ],
   "source": [
    "gv_data = {'MAGV': ['001', '002', '003', '004', '005', '006', '007', '008', '009', '010'],\n",
    "           'HOTEN': ['Nguyễn Hoài An',\n",
    "                     'Trần Trà Hương',\n",
    "                     'Nguyễn Ngọc Ánh',\n",
    "                     'Trương Nam Sơn',\n",
    "                     'Lý Hoàng Hà',\n",
    "                     'Trần Bạch Tuyết',\n",
    "                     'Nguyễn An Trung',\n",
    "                     'Trần Trung Hiểu',\n",
    "                     'Trần Hoàng Nam',\n",
    "                     'Phạm Nam Thanh'],\n",
    "           'LUONG': ['2000.0',\n",
    "                     '2500.0',\n",
    "                     '2200.0',\n",
    "                     '2300.0',\n",
    "                     '2500.0',\n",
    "                     '1500.0',\n",
    "                     '2100.0',\n",
    "                     '1800.0',\n",
    "                     '2000.0',\n",
    "                     '1500.0'],\n",
    "           'PHAI': ['Nam',\n",
    "                    'Nữ',\n",
    "                    'Nữ',\n",
    "                    'Nam',\n",
    "                    'Nam',\n",
    "                    'Nữ',\n",
    "                    'Nam',\n",
    "                    'Nam',\n",
    "                    'Nam',\n",
    "                    'Nam'],\n",
    "           'NGSINH': ['1973-02-15',\n",
    "                      '1960-06-20',\n",
    "                      '1975-05-11',\n",
    "                      '1959-06-20',\n",
    "                      '1954-10-23',\n",
    "                      '1980-05-20',\n",
    "                      '1976-06-05',\n",
    "                      '1977-08-06',\n",
    "                      '1975-11-22',\n",
    "                      '1980-12-12'],\n",
    "           'DIACHI': ['25/3 Lạc Long Quân, Q.10, TP HCM',\n",
    "                      '125 Trần Hưng Đạo, Q.1, TP HCM',\n",
    "                      '12/21 Võ Văn Ngân Thủ Đức, TP HCM',\n",
    "                      '215 Lý Thường Kiệt,TP Biên Hòa',\n",
    "                      '22/5 Nguyễn xí, Q.Bình Thạnh, TP HCM',\n",
    "                      '127 Hùng Vuong, TP Mỹ Tho',\n",
    "                      '234 3/2, TP Biên Hòa',\n",
    "                      '22/11 Lý Thuờng Kiệt, TP Mỹ Tho',\n",
    "                      '234 Trấn Não, An Phú, TP HCM',\n",
    "                      '221 Hùng Vuơng, Q.5, TP HCM'],\n",
    "           'GVQLCN': ['',\n",
    "                      '',\n",
    "                      '002',\n",
    "                      '',\n",
    "                      '',\n",
    "                      '004',\n",
    "                      '',\n",
    "                      '007',\n",
    "                      '001',\n",
    "                      '007'],\n",
    "           'MABM': ['MMT',\n",
    "                    'HTTT',\n",
    "                    'HTTT',\n",
    "                    'VS',\n",
    "                    'VLĐT',\n",
    "                    'VS',\n",
    "                    'HPT',\n",
    "                    'HPT',\n",
    "                    'MMT',\n",
    "                    'HPT']\n",
    "           }\n",
    "giaovien_df = pd.DataFrame(gv_data)\n",
    "giaovien_df\n"
   ]
  },
  {
   "cell_type": "code",
   "execution_count": 21,
   "metadata": {},
   "outputs": [],
   "source": [
    "giaovien_df.to_csv(\"giaovien.csv\", index=False)"
   ]
  },
  {
   "cell_type": "code",
   "execution_count": 22,
   "metadata": {},
   "outputs": [
    {
     "data": {
      "text/html": [
       "<div>\n",
       "<style scoped>\n",
       "    .dataframe tbody tr th:only-of-type {\n",
       "        vertical-align: middle;\n",
       "    }\n",
       "\n",
       "    .dataframe tbody tr th {\n",
       "        vertical-align: top;\n",
       "    }\n",
       "\n",
       "    .dataframe thead th {\n",
       "        text-align: right;\n",
       "    }\n",
       "</style>\n",
       "<table border=\"1\" class=\"dataframe\">\n",
       "  <thead>\n",
       "    <tr style=\"text-align: right;\">\n",
       "      <th></th>\n",
       "      <th>MAGV</th>\n",
       "      <th>HOTEN</th>\n",
       "      <th>LUONG</th>\n",
       "      <th>PHAI</th>\n",
       "      <th>NGSINH</th>\n",
       "      <th>DIACHI</th>\n",
       "      <th>GVQLCN</th>\n",
       "      <th>MABM</th>\n",
       "    </tr>\n",
       "  </thead>\n",
       "  <tbody>\n",
       "    <tr>\n",
       "      <th>0</th>\n",
       "      <td>001</td>\n",
       "      <td>Nguyễn Hoài An</td>\n",
       "      <td>2000.0</td>\n",
       "      <td>Nam</td>\n",
       "      <td>1973-02-15</td>\n",
       "      <td>25/3 Lạc Long Quân, Q.10, TP HCM</td>\n",
       "      <td></td>\n",
       "      <td>MMT</td>\n",
       "    </tr>\n",
       "    <tr>\n",
       "      <th>1</th>\n",
       "      <td>002</td>\n",
       "      <td>Trần Trà Hương</td>\n",
       "      <td>2500.0</td>\n",
       "      <td>Nữ</td>\n",
       "      <td>1960-06-20</td>\n",
       "      <td>125 Trần Hưng Đạo, Q.1, TP HCM</td>\n",
       "      <td></td>\n",
       "      <td>HTTT</td>\n",
       "    </tr>\n",
       "    <tr>\n",
       "      <th>2</th>\n",
       "      <td>003</td>\n",
       "      <td>Nguyễn Ngọc Ánh</td>\n",
       "      <td>2200.0</td>\n",
       "      <td>Nữ</td>\n",
       "      <td>1975-05-11</td>\n",
       "      <td>12/21 Võ Văn Ngân Thủ Đức, TP HCM</td>\n",
       "      <td>002</td>\n",
       "      <td>HTTT</td>\n",
       "    </tr>\n",
       "    <tr>\n",
       "      <th>3</th>\n",
       "      <td>004</td>\n",
       "      <td>Trương Nam Sơn</td>\n",
       "      <td>2300.0</td>\n",
       "      <td>Nam</td>\n",
       "      <td>1959-06-20</td>\n",
       "      <td>215 Lý Thường Kiệt,TP Biên Hòa</td>\n",
       "      <td></td>\n",
       "      <td>VS</td>\n",
       "    </tr>\n",
       "    <tr>\n",
       "      <th>4</th>\n",
       "      <td>005</td>\n",
       "      <td>Lý Hoàng Hà</td>\n",
       "      <td>2500.0</td>\n",
       "      <td>Nam</td>\n",
       "      <td>1954-10-23</td>\n",
       "      <td>22/5 Nguyễn xí, Q.Bình Thạnh, TP HCM</td>\n",
       "      <td></td>\n",
       "      <td>VLĐT</td>\n",
       "    </tr>\n",
       "  </tbody>\n",
       "</table>\n",
       "</div>"
      ],
      "text/plain": [
       "  MAGV            HOTEN   LUONG PHAI      NGSINH  \\\n",
       "0  001   Nguyễn Hoài An  2000.0  Nam  1973-02-15   \n",
       "1  002   Trần Trà Hương  2500.0   Nữ  1960-06-20   \n",
       "2  003  Nguyễn Ngọc Ánh  2200.0   Nữ  1975-05-11   \n",
       "3  004   Trương Nam Sơn  2300.0  Nam  1959-06-20   \n",
       "4  005      Lý Hoàng Hà  2500.0  Nam  1954-10-23   \n",
       "\n",
       "                                 DIACHI GVQLCN  MABM  \n",
       "0      25/3 Lạc Long Quân, Q.10, TP HCM          MMT  \n",
       "1        125 Trần Hưng Đạo, Q.1, TP HCM         HTTT  \n",
       "2     12/21 Võ Văn Ngân Thủ Đức, TP HCM    002  HTTT  \n",
       "3        215 Lý Thường Kiệt,TP Biên Hòa           VS  \n",
       "4  22/5 Nguyễn xí, Q.Bình Thạnh, TP HCM         VLĐT  "
      ]
     },
     "execution_count": 22,
     "metadata": {},
     "output_type": "execute_result"
    }
   ],
   "source": [
    "giaovien_df.head(5)"
   ]
  },
  {
   "cell_type": "code",
   "execution_count": 23,
   "metadata": {},
   "outputs": [
    {
     "name": "stdout",
     "output_type": "stream",
     "text": [
      "<class 'pandas.core.frame.DataFrame'>\n",
      "RangeIndex: 10 entries, 0 to 9\n",
      "Data columns (total 8 columns):\n",
      " #   Column  Non-Null Count  Dtype \n",
      "---  ------  --------------  ----- \n",
      " 0   MAGV    10 non-null     object\n",
      " 1   HOTEN   10 non-null     object\n",
      " 2   LUONG   10 non-null     object\n",
      " 3   PHAI    10 non-null     object\n",
      " 4   NGSINH  10 non-null     object\n",
      " 5   DIACHI  10 non-null     object\n",
      " 6   GVQLCN  10 non-null     object\n",
      " 7   MABM    10 non-null     object\n",
      "dtypes: object(8)\n",
      "memory usage: 768.0+ bytes\n"
     ]
    }
   ],
   "source": [
    "giaovien_df.info()"
   ]
  },
  {
   "cell_type": "code",
   "execution_count": 24,
   "metadata": {},
   "outputs": [
    {
     "data": {
      "text/plain": [
       "MAGV      object\n",
       "HOTEN     object\n",
       "LUONG     object\n",
       "PHAI      object\n",
       "NGSINH    object\n",
       "DIACHI    object\n",
       "GVQLCN    object\n",
       "MABM      object\n",
       "dtype: object"
      ]
     },
     "execution_count": 24,
     "metadata": {},
     "output_type": "execute_result"
    }
   ],
   "source": [
    "giaovien_df.dtypes"
   ]
  },
  {
   "cell_type": "code",
   "execution_count": 25,
   "metadata": {},
   "outputs": [
    {
     "data": {
      "text/html": [
       "<div>\n",
       "<style scoped>\n",
       "    .dataframe tbody tr th:only-of-type {\n",
       "        vertical-align: middle;\n",
       "    }\n",
       "\n",
       "    .dataframe tbody tr th {\n",
       "        vertical-align: top;\n",
       "    }\n",
       "\n",
       "    .dataframe thead th {\n",
       "        text-align: right;\n",
       "    }\n",
       "</style>\n",
       "<table border=\"1\" class=\"dataframe\">\n",
       "  <thead>\n",
       "    <tr style=\"text-align: right;\">\n",
       "      <th></th>\n",
       "      <th>MAGV</th>\n",
       "      <th>HOTEN</th>\n",
       "      <th>LUONG</th>\n",
       "      <th>PHAI</th>\n",
       "      <th>NGSINH</th>\n",
       "      <th>DIACHI</th>\n",
       "      <th>GVQLCN</th>\n",
       "      <th>MABM</th>\n",
       "    </tr>\n",
       "  </thead>\n",
       "  <tbody>\n",
       "    <tr>\n",
       "      <th>0</th>\n",
       "      <td>1</td>\n",
       "      <td>Nguyễn Hoài An</td>\n",
       "      <td>2000.0</td>\n",
       "      <td>Nam</td>\n",
       "      <td>1973-02-15</td>\n",
       "      <td>25/3 Lạc Long Quân, Q.10, TP HCM</td>\n",
       "      <td>NaN</td>\n",
       "      <td>MMT</td>\n",
       "    </tr>\n",
       "    <tr>\n",
       "      <th>1</th>\n",
       "      <td>2</td>\n",
       "      <td>Trần Trà Hương</td>\n",
       "      <td>2500.0</td>\n",
       "      <td>Nữ</td>\n",
       "      <td>1960-06-20</td>\n",
       "      <td>125 Trần Hưng Đạo, Q.1, TP HCM</td>\n",
       "      <td>NaN</td>\n",
       "      <td>HTTT</td>\n",
       "    </tr>\n",
       "    <tr>\n",
       "      <th>2</th>\n",
       "      <td>3</td>\n",
       "      <td>Nguyễn Ngọc Ánh</td>\n",
       "      <td>2200.0</td>\n",
       "      <td>Nữ</td>\n",
       "      <td>1975-05-11</td>\n",
       "      <td>12/21 Võ Văn Ngân Thủ Đức, TP HCM</td>\n",
       "      <td>2.0</td>\n",
       "      <td>HTTT</td>\n",
       "    </tr>\n",
       "    <tr>\n",
       "      <th>3</th>\n",
       "      <td>4</td>\n",
       "      <td>Trương Nam Sơn</td>\n",
       "      <td>2300.0</td>\n",
       "      <td>Nam</td>\n",
       "      <td>1959-06-20</td>\n",
       "      <td>215 Lý Thường Kiệt,TP Biên Hòa</td>\n",
       "      <td>NaN</td>\n",
       "      <td>VS</td>\n",
       "    </tr>\n",
       "    <tr>\n",
       "      <th>4</th>\n",
       "      <td>5</td>\n",
       "      <td>Lý Hoàng Hà</td>\n",
       "      <td>2500.0</td>\n",
       "      <td>Nam</td>\n",
       "      <td>1954-10-23</td>\n",
       "      <td>22/5 Nguyễn xí, Q.Bình Thạnh, TP HCM</td>\n",
       "      <td>NaN</td>\n",
       "      <td>VLĐT</td>\n",
       "    </tr>\n",
       "    <tr>\n",
       "      <th>5</th>\n",
       "      <td>6</td>\n",
       "      <td>Trần Bạch Tuyết</td>\n",
       "      <td>1500.0</td>\n",
       "      <td>Nữ</td>\n",
       "      <td>1980-05-20</td>\n",
       "      <td>127 Hùng Vuong, TP Mỹ Tho</td>\n",
       "      <td>4.0</td>\n",
       "      <td>VS</td>\n",
       "    </tr>\n",
       "    <tr>\n",
       "      <th>6</th>\n",
       "      <td>7</td>\n",
       "      <td>Nguyễn An Trung</td>\n",
       "      <td>2100.0</td>\n",
       "      <td>Nam</td>\n",
       "      <td>1976-06-05</td>\n",
       "      <td>234 3/2, TP Biên Hòa</td>\n",
       "      <td>NaN</td>\n",
       "      <td>HPT</td>\n",
       "    </tr>\n",
       "    <tr>\n",
       "      <th>7</th>\n",
       "      <td>8</td>\n",
       "      <td>Trần Trung Hiểu</td>\n",
       "      <td>1800.0</td>\n",
       "      <td>Nam</td>\n",
       "      <td>1977-08-06</td>\n",
       "      <td>22/11 Lý Thuờng Kiệt, TP Mỹ Tho</td>\n",
       "      <td>7.0</td>\n",
       "      <td>HPT</td>\n",
       "    </tr>\n",
       "    <tr>\n",
       "      <th>8</th>\n",
       "      <td>9</td>\n",
       "      <td>Trần Hoàng Nam</td>\n",
       "      <td>2000.0</td>\n",
       "      <td>Nam</td>\n",
       "      <td>1975-11-22</td>\n",
       "      <td>234 Trấn Não, An Phú, TP HCM</td>\n",
       "      <td>1.0</td>\n",
       "      <td>MMT</td>\n",
       "    </tr>\n",
       "    <tr>\n",
       "      <th>9</th>\n",
       "      <td>10</td>\n",
       "      <td>Phạm Nam Thanh</td>\n",
       "      <td>1500.0</td>\n",
       "      <td>Nam</td>\n",
       "      <td>1980-12-12</td>\n",
       "      <td>221 Hùng Vuơng, Q.5, TP HCM</td>\n",
       "      <td>7.0</td>\n",
       "      <td>HPT</td>\n",
       "    </tr>\n",
       "  </tbody>\n",
       "</table>\n",
       "</div>"
      ],
      "text/plain": [
       "   MAGV            HOTEN   LUONG PHAI      NGSINH  \\\n",
       "0     1   Nguyễn Hoài An  2000.0  Nam  1973-02-15   \n",
       "1     2   Trần Trà Hương  2500.0   Nữ  1960-06-20   \n",
       "2     3  Nguyễn Ngọc Ánh  2200.0   Nữ  1975-05-11   \n",
       "3     4   Trương Nam Sơn  2300.0  Nam  1959-06-20   \n",
       "4     5      Lý Hoàng Hà  2500.0  Nam  1954-10-23   \n",
       "5     6  Trần Bạch Tuyết  1500.0   Nữ  1980-05-20   \n",
       "6     7  Nguyễn An Trung  2100.0  Nam  1976-06-05   \n",
       "7     8  Trần Trung Hiểu  1800.0  Nam  1977-08-06   \n",
       "8     9   Trần Hoàng Nam  2000.0  Nam  1975-11-22   \n",
       "9    10   Phạm Nam Thanh  1500.0  Nam  1980-12-12   \n",
       "\n",
       "                                 DIACHI  GVQLCN  MABM  \n",
       "0      25/3 Lạc Long Quân, Q.10, TP HCM     NaN   MMT  \n",
       "1        125 Trần Hưng Đạo, Q.1, TP HCM     NaN  HTTT  \n",
       "2     12/21 Võ Văn Ngân Thủ Đức, TP HCM     2.0  HTTT  \n",
       "3        215 Lý Thường Kiệt,TP Biên Hòa     NaN    VS  \n",
       "4  22/5 Nguyễn xí, Q.Bình Thạnh, TP HCM     NaN  VLĐT  \n",
       "5             127 Hùng Vuong, TP Mỹ Tho     4.0    VS  \n",
       "6                  234 3/2, TP Biên Hòa     NaN   HPT  \n",
       "7       22/11 Lý Thuờng Kiệt, TP Mỹ Tho     7.0   HPT  \n",
       "8          234 Trấn Não, An Phú, TP HCM     1.0   MMT  \n",
       "9           221 Hùng Vuơng, Q.5, TP HCM     7.0   HPT  "
      ]
     },
     "execution_count": 25,
     "metadata": {},
     "output_type": "execute_result"
    }
   ],
   "source": [
    "pd.read_csv(\"giaovien.csv\")"
   ]
  }
 ],
 "metadata": {
  "interpreter": {
   "hash": "6255426b96413b4b5545062699879894d12ccc2916f82aa5dabf002fb08cbb76"
  },
  "kernelspec": {
   "display_name": "Python 3.8.10 64-bit",
   "language": "python",
   "name": "python3"
  },
  "language_info": {
   "codemirror_mode": {
    "name": "ipython",
    "version": 3
   },
   "file_extension": ".py",
   "mimetype": "text/x-python",
   "name": "python",
   "nbconvert_exporter": "python",
   "pygments_lexer": "ipython3",
   "version": "3.8.10"
  },
  "orig_nbformat": 4
 },
 "nbformat": 4,
 "nbformat_minor": 2
}
