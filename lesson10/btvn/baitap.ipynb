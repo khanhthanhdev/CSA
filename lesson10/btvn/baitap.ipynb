{
 "cells": [
  {
   "cell_type": "code",
   "execution_count": null,
   "metadata": {},
   "outputs": [],
   "source": [
    "import pandas as pd"
   ]
  },
  {
   "cell_type": "code",
   "execution_count": null,
   "metadata": {},
   "outputs": [],
   "source": [
    "provinces = pd.read_excel(\"provinces.xlsx\")\n",
    "provinces"
   ]
  },
  {
   "cell_type": "markdown",
   "metadata": {},
   "source": [
    "#### BAI 1"
   ]
  },
  {
   "cell_type": "code",
   "execution_count": null,
   "metadata": {},
   "outputs": [],
   "source": [
    "print(\"List of provinces and cities: \")\n",
    "for i in provinces.Name:\n",
    "    print(i, end = \", \")"
   ]
  },
  {
   "cell_type": "markdown",
   "metadata": {},
   "source": [
    "#### BAI 2"
   ]
  },
  {
   "cell_type": "code",
   "execution_count": null,
   "metadata": {},
   "outputs": [],
   "source": [
    "provinces.loc[(provinces.Division == \"Thành phố Trung ương\")]"
   ]
  },
  {
   "cell_type": "markdown",
   "metadata": {},
   "source": [
    "#### BAI 3"
   ]
  },
  {
   "cell_type": "code",
   "execution_count": null,
   "metadata": {},
   "outputs": [],
   "source": [
    "region_arr = provinces.Region.unique()"
   ]
  },
  {
   "cell_type": "code",
   "execution_count": null,
   "metadata": {},
   "outputs": [],
   "source": [
    "provinces.groupby(\"Region\").Name.count()"
   ]
  },
  {
   "cell_type": "markdown",
   "metadata": {},
   "source": [
    "#### BAI 4"
   ]
  },
  {
   "cell_type": "code",
   "execution_count": null,
   "metadata": {},
   "outputs": [],
   "source": [
    "max_pp = provinces.groupby(\"Name\").Population.max().idxmax()\n",
    "max_pp"
   ]
  },
  {
   "cell_type": "code",
   "execution_count": null,
   "metadata": {},
   "outputs": [],
   "source": [
    "min_pp = provinces.groupby(\"Name\").Population.min().idxmin()\n",
    "min_pp"
   ]
  },
  {
   "cell_type": "code",
   "execution_count": null,
   "metadata": {},
   "outputs": [],
   "source": [
    "pp_name = provinces.Population * 1000\n",
    "new_df = provinces.copy()\n",
    "new_df.Population = pp_name\n",
    "new_df"
   ]
  },
  {
   "cell_type": "markdown",
   "metadata": {},
   "source": [
    "#### BAI 5"
   ]
  },
  {
   "cell_type": "code",
   "execution_count": 94,
   "metadata": {},
   "outputs": [],
   "source": [
    "rg_area = provinces.groupby(\"Region\").Area.sum()\n",
    "total_area = provinces.Area.sum()\n",
    "area_percentage = rg_area / total_area * 100\n",
    "\n",
    "\n",
    "\n"
   ]
  },
  {
   "cell_type": "code",
   "execution_count": 95,
   "metadata": {},
   "outputs": [
    {
     "data": {
      "text/html": [
       "<div>\n",
       "<style scoped>\n",
       "    .dataframe tbody tr th:only-of-type {\n",
       "        vertical-align: middle;\n",
       "    }\n",
       "\n",
       "    .dataframe tbody tr th {\n",
       "        vertical-align: top;\n",
       "    }\n",
       "\n",
       "    .dataframe thead th {\n",
       "        text-align: right;\n",
       "    }\n",
       "</style>\n",
       "<table border=\"1\" class=\"dataframe\">\n",
       "  <thead>\n",
       "    <tr style=\"text-align: right;\">\n",
       "      <th></th>\n",
       "      <th>TotalArea</th>\n",
       "      <th>Area Population (%)</th>\n",
       "    </tr>\n",
       "    <tr>\n",
       "      <th>Region</th>\n",
       "      <th></th>\n",
       "      <th></th>\n",
       "    </tr>\n",
       "  </thead>\n",
       "  <tbody>\n",
       "    <tr>\n",
       "      <th>Bắc Trung Bộ</th>\n",
       "      <td>51110.8</td>\n",
       "      <td>15.443392</td>\n",
       "    </tr>\n",
       "    <tr>\n",
       "      <th>Nam Trung Bộ</th>\n",
       "      <td>44542.0</td>\n",
       "      <td>13.458595</td>\n",
       "    </tr>\n",
       "    <tr>\n",
       "      <th>Tây Bắc Bộ</th>\n",
       "      <td>50575.7</td>\n",
       "      <td>15.281708</td>\n",
       "    </tr>\n",
       "    <tr>\n",
       "      <th>Tây Nguyên</th>\n",
       "      <td>54508.3</td>\n",
       "      <td>16.469964</td>\n",
       "    </tr>\n",
       "    <tr>\n",
       "      <th>Đông Bắc Bộ</th>\n",
       "      <td>50802.8</td>\n",
       "      <td>15.350328</td>\n",
       "    </tr>\n",
       "    <tr>\n",
       "      <th>Đông Nam Bộ</th>\n",
       "      <td>23518.7</td>\n",
       "      <td>7.106296</td>\n",
       "    </tr>\n",
       "    <tr>\n",
       "      <th>Đồng bằng sông Cửu Long</th>\n",
       "      <td>40816.4</td>\n",
       "      <td>12.332886</td>\n",
       "    </tr>\n",
       "    <tr>\n",
       "      <th>Đồng bằng sông Hồng</th>\n",
       "      <td>15081.1</td>\n",
       "      <td>4.556832</td>\n",
       "    </tr>\n",
       "  </tbody>\n",
       "</table>\n",
       "</div>"
      ],
      "text/plain": [
       "                         TotalArea  Area Population (%)\n",
       "Region                                                 \n",
       "Bắc Trung Bộ               51110.8            15.443392\n",
       "Nam Trung Bộ               44542.0            13.458595\n",
       "Tây Bắc Bộ                 50575.7            15.281708\n",
       "Tây Nguyên                 54508.3            16.469964\n",
       "Đông Bắc Bộ                50802.8            15.350328\n",
       "Đông Nam Bộ                23518.7             7.106296\n",
       "Đồng bằng sông Cửu Long    40816.4            12.332886\n",
       "Đồng bằng sông Hồng        15081.1             4.556832"
      ]
     },
     "execution_count": 95,
     "metadata": {},
     "output_type": "execute_result"
    }
   ],
   "source": [
    "data = {\"TotalArea\": rg_area, \"Area Population (%)\": area_percentage}\n",
    "df = pd.DataFrame(data)\n",
    "df"
   ]
  }
 ],
 "metadata": {
  "interpreter": {
   "hash": "61c36101c255bf70bea63f0633f6ae28279c3b287e9c235904cebe517576bd1e"
  },
  "kernelspec": {
   "display_name": "Python 3.8.10 64-bit",
   "language": "python",
   "name": "python3"
  },
  "language_info": {
   "codemirror_mode": {
    "name": "ipython",
    "version": 3
   },
   "file_extension": ".py",
   "mimetype": "text/x-python",
   "name": "python",
   "nbconvert_exporter": "python",
   "pygments_lexer": "ipython3",
   "version": "3.8.10"
  },
  "orig_nbformat": 4
 },
 "nbformat": 4,
 "nbformat_minor": 2
}
